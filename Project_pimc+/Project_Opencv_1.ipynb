{
 "nbformat": 4,
 "nbformat_minor": 2,
 "metadata": {
  "language_info": {
   "name": "python",
   "codemirror_mode": {
    "name": "ipython",
    "version": 3
   },
   "version": "3.7.7-final"
  },
  "orig_nbformat": 2,
  "file_extension": ".py",
  "mimetype": "text/x-python",
  "name": "python",
  "npconvert_exporter": "python",
  "pygments_lexer": "ipython3",
  "version": 3,
  "kernelspec": {
   "name": "python37764bitdl4cvvenv45c9af2e94a64bd899752ddc062498d9",
   "display_name": "Python 3.7.7 64-bit ('dl4cv': venv)"
  }
 },
 "cells": [
  {
   "cell_type": "code",
   "execution_count": 20,
   "metadata": {},
   "outputs": [],
   "source": [
    "import tensorflow as tf\n",
    "import keras\n",
    "import numpy as np\n",
    "from scipy.io import loadmat\n",
    "from matplotlib import pyplot as plt\n",
    "from sklearn.model_selection import train_test_split\n",
    "\n",
    "from keras.utils import np_utils\n",
    "from keras.layers import Conv2D, MaxPool2D, Dense, Flatten, Dropout\n",
    "from keras.models import Sequential"
   ]
  },
  {
   "cell_type": "code",
   "execution_count": null,
   "metadata": {},
   "outputs": [],
   "source": []
  },
  {
   "cell_type": "code",
   "execution_count": 1,
   "metadata": {},
   "outputs": [
    {
     "ename": "NameError",
     "evalue": "name 'loadmat' is not defined",
     "output_type": "error",
     "traceback": [
      "\u001b[0;31m---------------------------------------------------------------------------\u001b[0m",
      "\u001b[0;31mNameError\u001b[0m                                 Traceback (most recent call last)",
      "\u001b[0;32m<ipython-input-1-888e8810bc28>\u001b[0m in \u001b[0;36m<module>\u001b[0;34m\u001b[0m\n\u001b[1;32m      4\u001b[0m     \u001b[0;32mreturn\u001b[0m \u001b[0mloaded_data\u001b[0m\u001b[0;34m[\u001b[0m\u001b[0;34m'X'\u001b[0m\u001b[0;34m]\u001b[0m\u001b[0;34m,\u001b[0m \u001b[0mloaded_data\u001b[0m\u001b[0;34m[\u001b[0m\u001b[0;34m'y'\u001b[0m\u001b[0;34m]\u001b[0m\u001b[0;34m\u001b[0m\u001b[0;34m\u001b[0m\u001b[0m\n\u001b[1;32m      5\u001b[0m \u001b[0;34m\u001b[0m\u001b[0m\n\u001b[0;32m----> 6\u001b[0;31m \u001b[0mX_train\u001b[0m\u001b[0;34m,\u001b[0m \u001b[0mY_train\u001b[0m \u001b[0;34m=\u001b[0m \u001b[0mload_data\u001b[0m\u001b[0;34m(\u001b[0m\u001b[0;34m'train'\u001b[0m\u001b[0;34m)\u001b[0m\u001b[0;34m\u001b[0m\u001b[0;34m\u001b[0m\u001b[0m\n\u001b[0m\u001b[1;32m      7\u001b[0m \u001b[0mX_test\u001b[0m\u001b[0;34m,\u001b[0m \u001b[0mY_test\u001b[0m \u001b[0;34m=\u001b[0m \u001b[0mload_data\u001b[0m\u001b[0;34m(\u001b[0m\u001b[0;34m'test_32x32.mat'\u001b[0m\u001b[0;34m)\u001b[0m\u001b[0;34m\u001b[0m\u001b[0;34m\u001b[0m\u001b[0m\n\u001b[1;32m      8\u001b[0m \u001b[0mX_train_original\u001b[0m \u001b[0;34m=\u001b[0m \u001b[0mX_train\u001b[0m\u001b[0;34m\u001b[0m\u001b[0;34m\u001b[0m\u001b[0m\n",
      "\u001b[0;32m<ipython-input-1-888e8810bc28>\u001b[0m in \u001b[0;36mload_data\u001b[0;34m(path)\u001b[0m\n\u001b[1;32m      1\u001b[0m \u001b[0;31m#loading the data\u001b[0m\u001b[0;34m\u001b[0m\u001b[0;34m\u001b[0m\u001b[0;34m\u001b[0m\u001b[0m\n\u001b[1;32m      2\u001b[0m \u001b[0;32mdef\u001b[0m \u001b[0mload_data\u001b[0m\u001b[0;34m(\u001b[0m\u001b[0mpath\u001b[0m\u001b[0;34m)\u001b[0m\u001b[0;34m:\u001b[0m\u001b[0;34m\u001b[0m\u001b[0;34m\u001b[0m\u001b[0m\n\u001b[0;32m----> 3\u001b[0;31m     \u001b[0mloaded_data\u001b[0m \u001b[0;34m=\u001b[0m \u001b[0mloadmat\u001b[0m\u001b[0;34m(\u001b[0m\u001b[0mpath\u001b[0m\u001b[0;34m)\u001b[0m\u001b[0;34m\u001b[0m\u001b[0;34m\u001b[0m\u001b[0m\n\u001b[0m\u001b[1;32m      4\u001b[0m     \u001b[0;32mreturn\u001b[0m \u001b[0mloaded_data\u001b[0m\u001b[0;34m[\u001b[0m\u001b[0;34m'X'\u001b[0m\u001b[0;34m]\u001b[0m\u001b[0;34m,\u001b[0m \u001b[0mloaded_data\u001b[0m\u001b[0;34m[\u001b[0m\u001b[0;34m'y'\u001b[0m\u001b[0;34m]\u001b[0m\u001b[0;34m\u001b[0m\u001b[0;34m\u001b[0m\u001b[0m\n\u001b[1;32m      5\u001b[0m \u001b[0;34m\u001b[0m\u001b[0m\n",
      "\u001b[0;31mNameError\u001b[0m: name 'loadmat' is not defined"
     ]
    }
   ],
   "source": [
    "#loading the data\n",
    "def load_data(path):\n",
    "    loaded_data = loadmat(path)\n",
    "    return loaded_data['X'], loaded_data['y']\n",
    "\n",
    "X_train, Y_train = load_data('train')\n",
    "X_test, Y_test = load_data('test_32x32.mat')\n",
    "X_train_original = X_train\n",
    "X_test_original = X_test"
   ]
  },
  {
   "cell_type": "code",
   "execution_count": 3,
   "metadata": {},
   "outputs": [],
   "source": [
    "#changing the shape of the training and the test dataset\n",
    "X_train = X_train.transpose((3, 0, 1, 2))\n",
    "X_test = X_test.transpose((3, 0, 1, 2))"
   ]
  },
  {
   "cell_type": "code",
   "execution_count": 4,
   "metadata": {},
   "outputs": [],
   "source": [
    "#converting 2-D array into 1-D array\n",
    "Y_train = Y_train[:,0]\n",
    "Y_test = Y_test[:,0]"
   ]
  },
  {
   "cell_type": "code",
   "execution_count": 5,
   "metadata": {},
   "outputs": [],
   "source": [
    "#changing the label of 0 from 10 to 0\n",
    "Y_train[Y_train==10] = 0\n",
    "Y_test[Y_test==10] = 0"
   ]
  },
  {
   "cell_type": "code",
   "execution_count": 6,
   "metadata": {},
   "outputs": [],
   "source": [
    "X_train_original = X_train\n",
    "Y_train_original = Y_train\n",
    "X_test_original = X_test"
   ]
  },
  {
   "cell_type": "code",
   "execution_count": 7,
   "metadata": {},
   "outputs": [],
   "source": [
    "#splitting the training set into training and validation set using sklearn\n",
    "#using random_state to generate the same sets everytime\n",
    "X_train, X_val, Y_train, Y_val = train_test_split(X_train_original, Y_train_original, test_size=0.15, random_state=3)\n",
    "\n"
   ]
  },
  {
   "cell_type": "code",
   "execution_count": 8,
   "metadata": {},
   "outputs": [],
   "source": [
    "#converting array of ints to array of floats for arithmetic operations\n",
    "X_train = X_train.astype('float32')\n",
    "X_val = X_val.astype('float32')\n",
    "X_test = X_test.astype('float32')"
   ]
  },
  {
   "cell_type": "code",
   "execution_count": 9,
   "metadata": {},
   "outputs": [],
   "source": [
    "rgb2grey = [0.2990, 0.5870, 0.1140]\n",
    "X_train = np.expand_dims(np.dot(X_train, rgb2grey), axis=3)\n",
    "X_val = np.expand_dims(np.dot(X_val, rgb2grey), axis=3)\n",
    "X_test = np.expand_dims(np.dot(X_test, rgb2grey), axis=3)"
   ]
  },
  {
   "cell_type": "code",
   "execution_count": 10,
   "metadata": {},
   "outputs": [],
   "source": [
    "#normalising the training data for better training\n",
    "train_mean = np.mean(X_train, axis=0)\n",
    "train_std = np.std(X_train, axis=0)\n",
    "\n",
    "X_train_normalised = (X_train-train_mean)/train_std\n",
    "X_val_normalised = (X_val-train_mean)/train_std\n",
    "X_test_normalised = (X_test-train_mean)/train_std\n"
   ]
  },
  {
   "cell_type": "code",
   "execution_count": 11,
   "metadata": {},
   "outputs": [],
   "source": [
    "#one-hot encoding\n",
    "Y_train = np_utils.to_categorical(Y_train)\n",
    "Y_val = np_utils.to_categorical(Y_val)\n",
    "Y_test = np_utils.to_categorical(Y_test)"
   ]
  },
  {
   "cell_type": "code",
   "execution_count": 12,
   "metadata": {},
   "outputs": [],
   "source": [
    "def create_model():\n",
    "    model = Sequential()\n",
    "    model.add(Conv2D(filters=64, kernel_size=(5,5), padding='same', activation='relu', input_shape=(32,32,1)))\n",
    "    model.add(MaxPool2D(pool_size=(2,2), strides=2))\n",
    "    model.add(Conv2D(filters=32, kernel_size=(5,5), padding='same', activation='relu'))\n",
    "    model.add(MaxPool2D(pool_size=(2,2), strides=2))\n",
    "    model.add(Flatten())\n",
    "    model.add(Dense(128, activation='relu'))\n",
    "    model.add(Dropout(0.2))\n",
    "    model.add(Dense(64, activation='relu'))\n",
    "    model.add(Dropout(0.2))\n",
    "    model.add(Dense(10, activation='softmax'))\n",
    "    #compiling the model\n",
    "    model.compile(optimizer = 'adam', loss = 'categorical_crossentropy', metrics = ['accuracy'])\n",
    "    return model"
   ]
  },
  {
   "cell_type": "code",
   "execution_count": 13,
   "metadata": {},
   "outputs": [],
   "source": [
    "model = create_model()"
   ]
  },
  {
   "cell_type": "code",
   "execution_count": 14,
   "metadata": {},
   "outputs": [
    {
     "name": "stdout",
     "output_type": "stream",
     "text": "Train on 62268 samples, validate on 10989 samples\nEpoch 1/20\n62268/62268 [==============================] - 133s 2ms/step - loss: 1.7486 - accuracy: 0.4189 - val_loss: 1.0569 - val_accuracy: 0.6615\nEpoch 2/20\n62268/62268 [==============================] - 132s 2ms/step - loss: 1.0292 - accuracy: 0.6780 - val_loss: 0.7369 - val_accuracy: 0.7746\nEpoch 3/20\n62268/62268 [==============================] - 130s 2ms/step - loss: 0.7672 - accuracy: 0.7653 - val_loss: 0.5925 - val_accuracy: 0.8172\nEpoch 4/20\n62268/62268 [==============================] - 126s 2ms/step - loss: 0.6560 - accuracy: 0.7993 - val_loss: 0.5629 - val_accuracy: 0.8322\nEpoch 5/20\n62268/62268 [==============================] - 127s 2ms/step - loss: 0.5864 - accuracy: 0.8223 - val_loss: 0.5463 - val_accuracy: 0.8303\nEpoch 6/20\n62268/62268 [==============================] - 134s 2ms/step - loss: 0.5287 - accuracy: 0.8418 - val_loss: 0.4936 - val_accuracy: 0.8538\nEpoch 7/20\n62268/62268 [==============================] - 134s 2ms/step - loss: 0.4966 - accuracy: 0.8514 - val_loss: 0.4855 - val_accuracy: 0.8525\nEpoch 8/20\n62268/62268 [==============================] - 124s 2ms/step - loss: 0.4659 - accuracy: 0.8610 - val_loss: 0.4490 - val_accuracy: 0.8683\nEpoch 9/20\n62268/62268 [==============================] - 126s 2ms/step - loss: 0.4347 - accuracy: 0.8699 - val_loss: 0.4434 - val_accuracy: 0.8689\nEpoch 10/20\n62268/62268 [==============================] - 135s 2ms/step - loss: 0.4088 - accuracy: 0.8772 - val_loss: 0.4385 - val_accuracy: 0.8716\nEpoch 11/20\n62268/62268 [==============================] - 117s 2ms/step - loss: 0.3974 - accuracy: 0.8811 - val_loss: 0.4251 - val_accuracy: 0.8786\nEpoch 12/20\n62268/62268 [==============================] - 121s 2ms/step - loss: 0.3761 - accuracy: 0.8882 - val_loss: 0.4468 - val_accuracy: 0.8793\nEpoch 13/20\n62268/62268 [==============================] - 134s 2ms/step - loss: 0.3649 - accuracy: 0.8908 - val_loss: 0.4339 - val_accuracy: 0.8731\nEpoch 14/20\n62268/62268 [==============================] - 135s 2ms/step - loss: 0.3533 - accuracy: 0.8931 - val_loss: 0.4207 - val_accuracy: 0.8832\nEpoch 15/20\n62268/62268 [==============================] - 142s 2ms/step - loss: 0.3355 - accuracy: 0.8978 - val_loss: 0.4360 - val_accuracy: 0.8771\nEpoch 16/20\n62268/62268 [==============================] - 142s 2ms/step - loss: 0.3269 - accuracy: 0.9012 - val_loss: 0.4229 - val_accuracy: 0.8897\nEpoch 17/20\n62268/62268 [==============================] - 144s 2ms/step - loss: 0.3109 - accuracy: 0.9072 - val_loss: 0.4040 - val_accuracy: 0.8894\nEpoch 18/20\n62268/62268 [==============================] - 145s 2ms/step - loss: 0.3030 - accuracy: 0.9089 - val_loss: 0.4019 - val_accuracy: 0.8886\nEpoch 19/20\n62268/62268 [==============================] - 146s 2ms/step - loss: 0.2981 - accuracy: 0.9084 - val_loss: 0.4376 - val_accuracy: 0.8865\nEpoch 20/20\n62268/62268 [==============================] - 146s 2ms/step - loss: 0.2823 - accuracy: 0.9149 - val_loss: 0.4359 - val_accuracy: 0.8825\n"
    },
    {
     "data": {
      "text/plain": "<keras.callbacks.callbacks.History at 0x15caf1810>"
     },
     "execution_count": 14,
     "metadata": {},
     "output_type": "execute_result"
    }
   ],
   "source": [
    "model.fit(X_train, Y_train, batch_size=64, epochs=20, verbose=1, validation_data=(X_val,Y_val))\n"
   ]
  },
  {
   "cell_type": "code",
   "execution_count": 15,
   "metadata": {},
   "outputs": [
    {
     "name": "stdout",
     "output_type": "stream",
     "text": "26032/26032 [==============================] - 13s 515us/step\n"
    }
   ],
   "source": [
    "scores = model.evaluate(X_test, Y_test, verbose = 1)"
   ]
  },
  {
   "cell_type": "code",
   "execution_count": 17,
   "metadata": {},
   "outputs": [],
   "source": [
    "model.save('street_view_house_numbers_model.h5')"
   ]
  },
  {
   "cell_type": "code",
   "execution_count": 22,
   "metadata": {},
   "outputs": [],
   "source": [
    "model_2 = keras.models.load_model('street_view_house_numbers_model.h5')"
   ]
  },
  {
   "cell_type": "code",
   "execution_count": 23,
   "metadata": {},
   "outputs": [
    {
     "name": "stdout",
     "output_type": "stream",
     "text": "Model: \"sequential_1\"\n_________________________________________________________________\nLayer (type)                 Output Shape              Param #   \n=================================================================\nconv2d_1 (Conv2D)            (None, 32, 32, 64)        1664      \n_________________________________________________________________\nmax_pooling2d_1 (MaxPooling2 (None, 16, 16, 64)        0         \n_________________________________________________________________\nconv2d_2 (Conv2D)            (None, 16, 16, 32)        51232     \n_________________________________________________________________\nmax_pooling2d_2 (MaxPooling2 (None, 8, 8, 32)          0         \n_________________________________________________________________\nflatten_1 (Flatten)          (None, 2048)              0         \n_________________________________________________________________\ndense_1 (Dense)              (None, 128)               262272    \n_________________________________________________________________\ndropout_1 (Dropout)          (None, 128)               0         \n_________________________________________________________________\ndense_2 (Dense)              (None, 64)                8256      \n_________________________________________________________________\ndropout_2 (Dropout)          (None, 64)                0         \n_________________________________________________________________\ndense_3 (Dense)              (None, 10)                650       \n=================================================================\nTotal params: 324,074\nTrainable params: 324,074\nNon-trainable params: 0\n_________________________________________________________________\n"
    }
   ],
   "source": [
    "model_2.summary()"
   ]
  },
  {
   "cell_type": "code",
   "execution_count": 26,
   "metadata": {},
   "outputs": [],
   "source": [
    "import numpy as np\n",
    "from scipy.io import loadmat\n",
    "from matplotlib import pyplot as plt\n",
    "from sklearn.model_selection import train_test_split\n",
    "from keras.utils import np_utils"
   ]
  },
  {
   "cell_type": "code",
   "execution_count": 27,
   "metadata": {},
   "outputs": [],
   "source": [
    "#loading the data\n",
    "def load_data(path):\n",
    "    loaded_data = loadmat(path)\n",
    "    return loaded_data['X'], loaded_data['y']\n",
    "\n",
    "X_train, Y_train = load_data('train_32x32.mat')\n",
    "X_test, Y_test = load_data('test_32x32.mat')\n",
    "X_train_original = X_train\n",
    "X_test_original = X_test"
   ]
  },
  {
   "cell_type": "code",
   "execution_count": 28,
   "metadata": {},
   "outputs": [
    {
     "data": {
      "text/plain": "(32, 32, 3, 73257)"
     },
     "execution_count": 28,
     "metadata": {},
     "output_type": "execute_result"
    }
   ],
   "source": [
    "X_train.shape"
   ]
  },
  {
   "cell_type": "code",
   "execution_count": 29,
   "metadata": {},
   "outputs": [
    {
     "data": {
      "text/plain": "(32, 32, 3, 26032)"
     },
     "execution_count": 29,
     "metadata": {},
     "output_type": "execute_result"
    }
   ],
   "source": [
    "X_test.shape"
   ]
  },
  {
   "cell_type": "code",
   "execution_count": 30,
   "metadata": {},
   "outputs": [],
   "source": [
    "#changing the shape of the training and the test dataset\n",
    "X_train = X_train.transpose((3, 0, 1, 2))\n",
    "X_test = X_test.transpose((3, 0, 1, 2))\n"
   ]
  },
  {
   "cell_type": "code",
   "execution_count": 31,
   "metadata": {},
   "outputs": [
    {
     "data": {
      "text/plain": "(73257, 32, 32, 3)"
     },
     "execution_count": 31,
     "metadata": {},
     "output_type": "execute_result"
    }
   ],
   "source": [
    "X_train.shape"
   ]
  },
  {
   "cell_type": "code",
   "execution_count": 32,
   "metadata": {},
   "outputs": [
    {
     "data": {
      "text/plain": "(26032, 32, 32, 3)"
     },
     "execution_count": 32,
     "metadata": {},
     "output_type": "execute_result"
    }
   ],
   "source": [
    "X_test.shape"
   ]
  },
  {
   "cell_type": "code",
   "execution_count": 33,
   "metadata": {},
   "outputs": [
    {
     "data": {
      "text/plain": "2"
     },
     "execution_count": 33,
     "metadata": {},
     "output_type": "execute_result"
    }
   ],
   "source": [
    "Y_train.ndim"
   ]
  },
  {
   "cell_type": "code",
   "execution_count": 34,
   "metadata": {},
   "outputs": [],
   "source": [
    "Y_train = Y_train[:,0]\n",
    "Y_test = Y_test[:,0]"
   ]
  },
  {
   "cell_type": "code",
   "execution_count": 35,
   "metadata": {},
   "outputs": [
    {
     "data": {
      "text/plain": "1"
     },
     "execution_count": 35,
     "metadata": {},
     "output_type": "execute_result"
    }
   ],
   "source": [
    "Y_train.ndim"
   ]
  },
  {
   "cell_type": "code",
   "execution_count": 36,
   "metadata": {},
   "outputs": [
    {
     "data": {
      "text/plain": "array([ 1,  2,  3,  4,  5,  6,  7,  8,  9, 10], dtype=uint8)"
     },
     "execution_count": 36,
     "metadata": {},
     "output_type": "execute_result"
    }
   ],
   "source": [
    "np.unique(Y_test)"
   ]
  },
  {
   "cell_type": "code",
   "execution_count": 37,
   "metadata": {},
   "outputs": [],
   "source": [
    "#changing the label of 0 from 10 to 0\n",
    "Y_train[Y_train==10] = 0\n",
    "Y_test[Y_test==10] = 0"
   ]
  },
  {
   "cell_type": "code",
   "execution_count": 38,
   "metadata": {},
   "outputs": [
    {
     "data": {
      "text/plain": "array([0, 1, 2, 3, 4, 5, 6, 7, 8, 9], dtype=uint8)"
     },
     "execution_count": 38,
     "metadata": {},
     "output_type": "execute_result"
    }
   ],
   "source": [
    "np.unique(Y_test)"
   ]
  },
  {
   "cell_type": "code",
   "execution_count": 39,
   "metadata": {},
   "outputs": [
    {
     "data": {
      "text/plain": "<matplotlib.image.AxesImage at 0x144d8e690>"
     },
     "execution_count": 39,
     "metadata": {},
     "output_type": "execute_result"
    },
    {
     "data": {
      "image/png": "[encoded data removed]",
      "image/svg+xml": "<?xml version=\"1.0\" encoding=\"utf-8\" standalone=\"no\"?>\n<!DOCTYPE svg PUBLIC \"-//W3C//DTD SVG 1.1//EN\"\n  \"http://www.w3.org/Graphics/SVG/1.1/DTD/svg11.dtd\">\n<!-- Created with matplotlib (https://matplotlib.org/) -->\n<svg height=\"248.919844pt\" version=\"1.1\" viewBox=\"0 0 251.565 248.919844\" width=\"251.565pt\" xmlns=\"http://www.w3.org/2000/svg\" xmlns:xlink=\"http://www.w3.org/1999/xlink\">\n <defs>\n  <style type=\"text/css\">\n*{stroke-linecap:butt;stroke-linejoin:round;}\n  </style>\n </defs>\n <g id=\"figure_1\">\n  <g id=\"patch_1\">\n   <path d=\"M 0 248.919844 \nL 251.565 248.919844 \nL 251.565 0 \nL 0 0 \nz\n\" style=\"fill:none;\"/>\n  </g>\n  <g id=\"axes_1\">\n   <g id=\"patch_2\">\n    <path d=\"M 26.925 225.041719 \nL 244.365 225.041719 \nL 244.365 7.601719 \nL 26.925 7.601719 \nz\n\" style=\"fill:#ffffff;\"/>\n   </g>\n   <g clip-path=\"url(#pcadfd857f6)\">\n    <image height=\"218\" id=\"imagee5eda70761\" transform=\"scale(1 -1)translate(0 -218)\" width=\"218\" x=\"26.925\" xlink:href=\"data:image/png;base64,\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\" y=\"-7.041719\"/>\n   </g>\n   <g id=\"matplotlib.axis_1\">\n    <g id=\"xtick_1\">\n     <g id=\"line2d_1\">\n      <defs>\n       <path d=\"M 0 0 \nL 0 3.5 \n\" id=\"m4a223ecd67\" style=\"stroke:#000000;stroke-width:0.8;\"/>\n      </defs>\n      <g>\n       <use style=\"stroke:#000000;stroke-width:0.8;\" x=\"30.3225\" xlink:href=\"#m4a223ecd67\" y=\"225.041719\"/>\n      </g>\n     </g>\n     <g id=\"text_1\">\n      <!-- 0 -->\n      <defs>\n       <path d=\"M 31.78125 66.40625 \nQ 24.171875 66.40625 20.328125 58.90625 \nQ 16.5 51.421875 16.5 36.375 \nQ 16.5 21.390625 20.328125 13.890625 \nQ 24.171875 6.390625 31.78125 6.390625 \nQ 39.453125 6.390625 43.28125 13.890625 \nQ 47.125 21.390625 47.125 36.375 \nQ 47.125 51.421875 43.28125 58.90625 \nQ 39.453125 66.40625 31.78125 66.40625 \nz\nM 31.78125 74.21875 \nQ 44.046875 74.21875 50.515625 64.515625 \nQ 56.984375 54.828125 56.984375 36.375 \nQ 56.984375 17.96875 50.515625 8.265625 \nQ 44.046875 -1.421875 31.78125 -1.421875 \nQ 19.53125 -1.421875 13.0625 8.265625 \nQ 6.59375 17.96875 6.59375 36.375 \nQ 6.59375 54.828125 13.0625 64.515625 \nQ 19.53125 74.21875 31.78125 74.21875 \nz\n\" id=\"DejaVuSans-48\"/>\n      </defs>\n      <g transform=\"translate(27.14125 239.640156)scale(0.1 -0.1)\">\n       <use xlink:href=\"#DejaVuSans-48\"/>\n      </g>\n     </g>\n    </g>\n    <g id=\"xtick_2\">\n     <g id=\"line2d_2\">\n      <g>\n       <use style=\"stroke:#000000;stroke-width:0.8;\" x=\"64.2975\" xlink:href=\"#m4a223ecd67\" y=\"225.041719\"/>\n      </g>\n     </g>\n     <g id=\"text_2\">\n      <!-- 5 -->\n      <defs>\n       <path d=\"M 10.796875 72.90625 \nL 49.515625 72.90625 \nL 49.515625 64.59375 \nL 19.828125 64.59375 \nL 19.828125 46.734375 \nQ 21.96875 47.46875 24.109375 47.828125 \nQ 26.265625 48.1875 28.421875 48.1875 \nQ 40.625 48.1875 47.75 41.5 \nQ 54.890625 34.8125 54.890625 23.390625 \nQ 54.890625 11.625 47.5625 5.09375 \nQ 40.234375 -1.421875 26.90625 -1.421875 \nQ 22.3125 -1.421875 17.546875 -0.640625 \nQ 12.796875 0.140625 7.71875 1.703125 \nL 7.71875 11.625 \nQ 12.109375 9.234375 16.796875 8.0625 \nQ 21.484375 6.890625 26.703125 6.890625 \nQ 35.15625 6.890625 40.078125 11.328125 \nQ 45.015625 15.765625 45.015625 23.390625 \nQ 45.015625 31 40.078125 35.4375 \nQ 35.15625 39.890625 26.703125 39.890625 \nQ 22.75 39.890625 18.8125 39.015625 \nQ 14.890625 38.140625 10.796875 36.28125 \nz\n\" id=\"DejaVuSans-53\"/>\n      </defs>\n      <g transform=\"translate(61.11625 239.640156)scale(0.1 -0.1)\">\n       <use xlink:href=\"#DejaVuSans-53\"/>\n      </g>\n     </g>\n    </g>\n    <g id=\"xtick_3\">\n     <g id=\"line2d_3\">\n      <g>\n       <use style=\"stroke:#000000;stroke-width:0.8;\" x=\"98.2725\" xlink:href=\"#m4a223ecd67\" y=\"225.041719\"/>\n      </g>\n     </g>\n     <g id=\"text_3\">\n      <!-- 10 -->\n      <defs>\n       <path d=\"M 12.40625 8.296875 \nL 28.515625 8.296875 \nL 28.515625 63.921875 \nL 10.984375 60.40625 \nL 10.984375 69.390625 \nL 28.421875 72.90625 \nL 38.28125 72.90625 \nL 38.28125 8.296875 \nL 54.390625 8.296875 \nL 54.390625 0 \nL 12.40625 0 \nz\n\" id=\"DejaVuSans-49\"/>\n      </defs>\n      <g transform=\"translate(91.91 239.640156)scale(0.1 -0.1)\">\n       <use xlink:href=\"#DejaVuSans-49\"/>\n       <use x=\"63.623047\" xlink:href=\"#DejaVuSans-48\"/>\n      </g>\n     </g>\n    </g>\n    <g id=\"xtick_4\">\n     <g id=\"line2d_4\">\n      <g>\n       <use style=\"stroke:#000000;stroke-width:0.8;\" x=\"132.2475\" xlink:href=\"#m4a223ecd67\" y=\"225.041719\"/>\n      </g>\n     </g>\n     <g id=\"text_4\">\n      <!-- 15 -->\n      <g transform=\"translate(125.885 239.640156)scale(0.1 -0.1)\">\n       <use xlink:href=\"#DejaVuSans-49\"/>\n       <use x=\"63.623047\" xlink:href=\"#DejaVuSans-53\"/>\n      </g>\n     </g>\n    </g>\n    <g id=\"xtick_5\">\n     <g id=\"line2d_5\">\n      <g>\n       <use style=\"stroke:#000000;stroke-width:0.8;\" x=\"166.2225\" xlink:href=\"#m4a223ecd67\" y=\"225.041719\"/>\n      </g>\n     </g>\n     <g id=\"text_5\">\n      <!-- 20 -->\n      <defs>\n       <path d=\"M 19.1875 8.296875 \nL 53.609375 8.296875 \nL 53.609375 0 \nL 7.328125 0 \nL 7.328125 8.296875 \nQ 12.9375 14.109375 22.625 23.890625 \nQ 32.328125 33.6875 34.8125 36.53125 \nQ 39.546875 41.84375 41.421875 45.53125 \nQ 43.3125 49.21875 43.3125 52.78125 \nQ 43.3125 58.59375 39.234375 62.25 \nQ 35.15625 65.921875 28.609375 65.921875 \nQ 23.96875 65.921875 18.8125 64.3125 \nQ 13.671875 62.703125 7.8125 59.421875 \nL 7.8125 69.390625 \nQ 13.765625 71.78125 18.9375 73 \nQ 24.125 74.21875 28.421875 74.21875 \nQ 39.75 74.21875 46.484375 68.546875 \nQ 53.21875 62.890625 53.21875 53.421875 \nQ 53.21875 48.921875 51.53125 44.890625 \nQ 49.859375 40.875 45.40625 35.40625 \nQ 44.1875 33.984375 37.640625 27.21875 \nQ 31.109375 20.453125 19.1875 8.296875 \nz\n\" id=\"DejaVuSans-50\"/>\n      </defs>\n      <g transform=\"translate(159.86 239.640156)scale(0.1 -0.1)\">\n       <use xlink:href=\"#DejaVuSans-50\"/>\n       <use x=\"63.623047\" xlink:href=\"#DejaVuSans-48\"/>\n      </g>\n     </g>\n    </g>\n    <g id=\"xtick_6\">\n     <g id=\"line2d_6\">\n      <g>\n       <use style=\"stroke:#000000;stroke-width:0.8;\" x=\"200.1975\" xlink:href=\"#m4a223ecd67\" y=\"225.041719\"/>\n      </g>\n     </g>\n     <g id=\"text_6\">\n      <!-- 25 -->\n      <g transform=\"translate(193.835 239.640156)scale(0.1 -0.1)\">\n       <use xlink:href=\"#DejaVuSans-50\"/>\n       <use x=\"63.623047\" xlink:href=\"#DejaVuSans-53\"/>\n      </g>\n     </g>\n    </g>\n    <g id=\"xtick_7\">\n     <g id=\"line2d_7\">\n      <g>\n       <use style=\"stroke:#000000;stroke-width:0.8;\" x=\"234.1725\" xlink:href=\"#m4a223ecd67\" y=\"225.041719\"/>\n      </g>\n     </g>\n     <g id=\"text_7\">\n      <!-- 30 -->\n      <defs>\n       <path d=\"M 40.578125 39.3125 \nQ 47.65625 37.796875 51.625 33 \nQ 55.609375 28.21875 55.609375 21.1875 \nQ 55.609375 10.40625 48.1875 4.484375 \nQ 40.765625 -1.421875 27.09375 -1.421875 \nQ 22.515625 -1.421875 17.65625 -0.515625 \nQ 12.796875 0.390625 7.625 2.203125 \nL 7.625 11.71875 \nQ 11.71875 9.328125 16.59375 8.109375 \nQ 21.484375 6.890625 26.8125 6.890625 \nQ 36.078125 6.890625 40.9375 10.546875 \nQ 45.796875 14.203125 45.796875 21.1875 \nQ 45.796875 27.640625 41.28125 31.265625 \nQ 36.765625 34.90625 28.71875 34.90625 \nL 20.21875 34.90625 \nL 20.21875 43.015625 \nL 29.109375 43.015625 \nQ 36.375 43.015625 40.234375 45.921875 \nQ 44.09375 48.828125 44.09375 54.296875 \nQ 44.09375 59.90625 40.109375 62.90625 \nQ 36.140625 65.921875 28.71875 65.921875 \nQ 24.65625 65.921875 20.015625 65.03125 \nQ 15.375 64.15625 9.8125 62.3125 \nL 9.8125 71.09375 \nQ 15.4375 72.65625 20.34375 73.4375 \nQ 25.25 74.21875 29.59375 74.21875 \nQ 40.828125 74.21875 47.359375 69.109375 \nQ 53.90625 64.015625 53.90625 55.328125 \nQ 53.90625 49.265625 50.4375 45.09375 \nQ 46.96875 40.921875 40.578125 39.3125 \nz\n\" id=\"DejaVuSans-51\"/>\n      </defs>\n      <g transform=\"translate(227.81 239.640156)scale(0.1 -0.1)\">\n       <use xlink:href=\"#DejaVuSans-51\"/>\n       <use x=\"63.623047\" xlink:href=\"#DejaVuSans-48\"/>\n      </g>\n     </g>\n    </g>\n   </g>\n   <g id=\"matplotlib.axis_2\">\n    <g id=\"ytick_1\">\n     <g id=\"line2d_8\">\n      <defs>\n       <path d=\"M 0 0 \nL -3.5 0 \n\" id=\"m18e6bd5dfa\" style=\"stroke:#000000;stroke-width:0.8;\"/>\n      </defs>\n      <g>\n       <use style=\"stroke:#000000;stroke-width:0.8;\" x=\"26.925\" xlink:href=\"#m18e6bd5dfa\" y=\"10.999219\"/>\n      </g>\n     </g>\n     <g id=\"text_8\">\n      <!-- 0 -->\n      <g transform=\"translate(13.5625 14.798437)scale(0.1 -0.1)\">\n       <use xlink:href=\"#DejaVuSans-48\"/>\n      </g>\n     </g>\n    </g>\n    <g id=\"ytick_2\">\n     <g id=\"line2d_9\">\n      <g>\n       <use style=\"stroke:#000000;stroke-width:0.8;\" x=\"26.925\" xlink:href=\"#m18e6bd5dfa\" y=\"44.974219\"/>\n      </g>\n     </g>\n     <g id=\"text_9\">\n      <!-- 5 -->\n      <g transform=\"translate(13.5625 48.773437)scale(0.1 -0.1)\">\n       <use xlink:href=\"#DejaVuSans-53\"/>\n      </g>\n     </g>\n    </g>\n    <g id=\"ytick_3\">\n     <g id=\"line2d_10\">\n      <g>\n       <use style=\"stroke:#000000;stroke-width:0.8;\" x=\"26.925\" xlink:href=\"#m18e6bd5dfa\" y=\"78.949219\"/>\n      </g>\n     </g>\n     <g id=\"text_10\">\n      <!-- 10 -->\n      <g transform=\"translate(7.2 82.748437)scale(0.1 -0.1)\">\n       <use xlink:href=\"#DejaVuSans-49\"/>\n       <use x=\"63.623047\" xlink:href=\"#DejaVuSans-48\"/>\n      </g>\n     </g>\n    </g>\n    <g id=\"ytick_4\">\n     <g id=\"line2d_11\">\n      <g>\n       <use style=\"stroke:#000000;stroke-width:0.8;\" x=\"26.925\" xlink:href=\"#m18e6bd5dfa\" y=\"112.924219\"/>\n      </g>\n     </g>\n     <g id=\"text_11\">\n      <!-- 15 -->\n      <g transform=\"translate(7.2 116.723437)scale(0.1 -0.1)\">\n       <use xlink:href=\"#DejaVuSans-49\"/>\n       <use x=\"63.623047\" xlink:href=\"#DejaVuSans-53\"/>\n      </g>\n     </g>\n    </g>\n    <g id=\"ytick_5\">\n     <g id=\"line2d_12\">\n      <g>\n       <use style=\"stroke:#000000;stroke-width:0.8;\" x=\"26.925\" xlink:href=\"#m18e6bd5dfa\" y=\"146.899219\"/>\n      </g>\n     </g>\n     <g id=\"text_12\">\n      <!-- 20 -->\n      <g transform=\"translate(7.2 150.698437)scale(0.1 -0.1)\">\n       <use xlink:href=\"#DejaVuSans-50\"/>\n       <use x=\"63.623047\" xlink:href=\"#DejaVuSans-48\"/>\n      </g>\n     </g>\n    </g>\n    <g id=\"ytick_6\">\n     <g id=\"line2d_13\">\n      <g>\n       <use style=\"stroke:#000000;stroke-width:0.8;\" x=\"26.925\" xlink:href=\"#m18e6bd5dfa\" y=\"180.874219\"/>\n      </g>\n     </g>\n     <g id=\"text_13\">\n      <!-- 25 -->\n      <g transform=\"translate(7.2 184.673437)scale(0.1 -0.1)\">\n       <use xlink:href=\"#DejaVuSans-50\"/>\n       <use x=\"63.623047\" xlink:href=\"#DejaVuSans-53\"/>\n      </g>\n     </g>\n    </g>\n    <g id=\"ytick_7\">\n     <g id=\"line2d_14\">\n      <g>\n       <use style=\"stroke:#000000;stroke-width:0.8;\" x=\"26.925\" xlink:href=\"#m18e6bd5dfa\" y=\"214.849219\"/>\n      </g>\n     </g>\n     <g id=\"text_14\">\n      <!-- 30 -->\n      <g transform=\"translate(7.2 218.648437)scale(0.1 -0.1)\">\n       <use xlink:href=\"#DejaVuSans-51\"/>\n       <use x=\"63.623047\" xlink:href=\"#DejaVuSans-48\"/>\n      </g>\n     </g>\n    </g>\n   </g>\n   <g id=\"patch_3\">\n    <path d=\"M 26.925 225.041719 \nL 26.925 7.601719 \n\" style=\"fill:none;stroke:#000000;stroke-linecap:square;stroke-linejoin:miter;stroke-width:0.8;\"/>\n   </g>\n   <g id=\"patch_4\">\n    <path d=\"M 244.365 225.041719 \nL 244.365 7.601719 \n\" style=\"fill:none;stroke:#000000;stroke-linecap:square;stroke-linejoin:miter;stroke-width:0.8;\"/>\n   </g>\n   <g id=\"patch_5\">\n    <path d=\"M 26.925 225.041719 \nL 244.365 225.041719 \n\" style=\"fill:none;stroke:#000000;stroke-linecap:square;stroke-linejoin:miter;stroke-width:0.8;\"/>\n   </g>\n   <g id=\"patch_6\">\n    <path d=\"M 26.925 7.601719 \nL 244.365 7.601719 \n\" style=\"fill:none;stroke:#000000;stroke-linecap:square;stroke-linejoin:miter;stroke-width:0.8;\"/>\n   </g>\n  </g>\n </g>\n <defs>\n  <clipPath id=\"pcadfd857f6\">\n   <rect height=\"217.44\" width=\"217.44\" x=\"26.925\" y=\"7.601719\"/>\n  </clipPath>\n </defs>\n</svg>\n",
      "text/plain": "<Figure size 432x288 with 1 Axes>"
     },
     "metadata": {
      "needs_background": "light"
     },
     "output_type": "display_data"
    }
   ],
   "source": [
    " plt.imshow(X_train[10600])"
   ]
  },
  {
   "cell_type": "code",
   "execution_count": 40,
   "metadata": {},
   "outputs": [],
   "source": [
    "X_train_original = X_train\n",
    "Y_train_original = Y_train\n",
    "X_test_original = X_test"
   ]
  },
  {
   "cell_type": "code",
   "execution_count": 41,
   "metadata": {},
   "outputs": [],
   "source": [
    "#splitting the training set into training and validation set using sklearn\n",
    "#using random_state to generate the same sets everytime\n",
    "X_train, X_val, Y_train, Y_val = train_test_split(X_train_original, Y_train_original, test_size=0.15, random_state=3)\n"
   ]
  },
  {
   "cell_type": "code",
   "execution_count": 42,
   "metadata": {},
   "outputs": [
    {
     "data": {
      "text/plain": "(62268, 32, 32, 3)"
     },
     "execution_count": 42,
     "metadata": {},
     "output_type": "execute_result"
    }
   ],
   "source": [
    "X_train.shape"
   ]
  },
  {
   "cell_type": "code",
   "execution_count": 43,
   "metadata": {},
   "outputs": [
    {
     "data": {
      "text/plain": "(10989, 32, 32, 3)"
     },
     "execution_count": 43,
     "metadata": {},
     "output_type": "execute_result"
    }
   ],
   "source": [
    "X_val.shape"
   ]
  },
  {
   "cell_type": "code",
   "execution_count": 44,
   "metadata": {},
   "outputs": [
    {
     "data": {
      "text/plain": "(62268,)"
     },
     "execution_count": 44,
     "metadata": {},
     "output_type": "execute_result"
    }
   ],
   "source": [
    "Y_train.shape"
   ]
  },
  {
   "cell_type": "code",
   "execution_count": 45,
   "metadata": {},
   "outputs": [
    {
     "data": {
      "text/plain": "(10989,)"
     },
     "execution_count": 45,
     "metadata": {},
     "output_type": "execute_result"
    }
   ],
   "source": [
    "Y_val.shape"
   ]
  },
  {
   "cell_type": "code",
   "execution_count": 46,
   "metadata": {},
   "outputs": [],
   "source": [
    "#converting array of ints to array of floats for arithmetic operations\n",
    "X_train = X_train.astype('float32')\n",
    "X_val = X_val.astype('float32')\n",
    "X_test = X_test.astype('float32')"
   ]
  },
  {
   "cell_type": "code",
   "execution_count": 47,
   "metadata": {},
   "outputs": [],
   "source": [
    "test = np.expand_dims(np.dot(X_train[0], rgb2grey), axis=2)"
   ]
  },
  {
   "cell_type": "code",
   "execution_count": 48,
   "metadata": {},
   "outputs": [
    {
     "data": {
      "text/plain": "(32, 32, 1)"
     },
     "execution_count": 48,
     "metadata": {},
     "output_type": "execute_result"
    }
   ],
   "source": [
    "test.shape"
   ]
  },
  {
   "cell_type": "code",
   "execution_count": 49,
   "metadata": {},
   "outputs": [
    {
     "data": {
      "text/plain": "<matplotlib.image.AxesImage at 0x1438b7450>"
     },
     "execution_count": 49,
     "metadata": {},
     "output_type": "execute_result"
    },
    {
     "data": {
      "image/png": "[encoded data removed]",
      "image/svg+xml": "<?xml version=\"1.0\" encoding=\"utf-8\" standalone=\"no\"?>\n<!DOCTYPE svg PUBLIC \"-//W3C//DTD SVG 1.1//EN\"\n  \"http://www.w3.org/Graphics/SVG/1.1/DTD/svg11.dtd\">\n<!-- Created with matplotlib (https://matplotlib.org/) -->\n<svg height=\"248.919844pt\" version=\"1.1\" viewBox=\"0 0 251.565 248.919844\" width=\"251.565pt\" xmlns=\"http://www.w3.org/2000/svg\" xmlns:xlink=\"http://www.w3.org/1999/xlink\">\n <defs>\n  <style type=\"text/css\">\n*{stroke-linecap:butt;stroke-linejoin:round;}\n  </style>\n </defs>\n <g id=\"figure_1\">\n  <g id=\"patch_1\">\n   <path d=\"M 0 248.919844 \nL 251.565 248.919844 \nL 251.565 0 \nL 0 0 \nz\n\" style=\"fill:none;\"/>\n  </g>\n  <g id=\"axes_1\">\n   <g id=\"patch_2\">\n    <path d=\"M 26.925 225.041719 \nL 244.365 225.041719 \nL 244.365 7.601719 \nL 26.925 7.601719 \nz\n\" style=\"fill:#ffffff;\"/>\n   </g>\n   <g clip-path=\"url(#p6a63103769)\">\n    <image height=\"218\" id=\"image029e1e5dde\" transform=\"scale(1 -1)translate(0 -218)\" width=\"218\" x=\"26.925\" xlink:href=\"data:image/png;base64,\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\" y=\"-7.041719\"/>\n   </g>\n   <g id=\"matplotlib.axis_1\">\n    <g id=\"xtick_1\">\n     <g id=\"line2d_1\">\n      <defs>\n       <path d=\"M 0 0 \nL 0 3.5 \n\" id=\"m262e234ca8\" style=\"stroke:#000000;stroke-width:0.8;\"/>\n      </defs>\n      <g>\n       <use style=\"stroke:#000000;stroke-width:0.8;\" x=\"30.3225\" xlink:href=\"#m262e234ca8\" y=\"225.041719\"/>\n      </g>\n     </g>\n     <g id=\"text_1\">\n      <!-- 0 -->\n      <defs>\n       <path d=\"M 31.78125 66.40625 \nQ 24.171875 66.40625 20.328125 58.90625 \nQ 16.5 51.421875 16.5 36.375 \nQ 16.5 21.390625 20.328125 13.890625 \nQ 24.171875 6.390625 31.78125 6.390625 \nQ 39.453125 6.390625 43.28125 13.890625 \nQ 47.125 21.390625 47.125 36.375 \nQ 47.125 51.421875 43.28125 58.90625 \nQ 39.453125 66.40625 31.78125 66.40625 \nz\nM 31.78125 74.21875 \nQ 44.046875 74.21875 50.515625 64.515625 \nQ 56.984375 54.828125 56.984375 36.375 \nQ 56.984375 17.96875 50.515625 8.265625 \nQ 44.046875 -1.421875 31.78125 -1.421875 \nQ 19.53125 -1.421875 13.0625 8.265625 \nQ 6.59375 17.96875 6.59375 36.375 \nQ 6.59375 54.828125 13.0625 64.515625 \nQ 19.53125 74.21875 31.78125 74.21875 \nz\n\" id=\"DejaVuSans-48\"/>\n      </defs>\n      <g transform=\"translate(27.14125 239.640156)scale(0.1 -0.1)\">\n       <use xlink:href=\"#DejaVuSans-48\"/>\n      </g>\n     </g>\n    </g>\n    <g id=\"xtick_2\">\n     <g id=\"line2d_2\">\n      <g>\n       <use style=\"stroke:#000000;stroke-width:0.8;\" x=\"64.2975\" xlink:href=\"#m262e234ca8\" y=\"225.041719\"/>\n      </g>\n     </g>\n     <g id=\"text_2\">\n      <!-- 5 -->\n      <defs>\n       <path d=\"M 10.796875 72.90625 \nL 49.515625 72.90625 \nL 49.515625 64.59375 \nL 19.828125 64.59375 \nL 19.828125 46.734375 \nQ 21.96875 47.46875 24.109375 47.828125 \nQ 26.265625 48.1875 28.421875 48.1875 \nQ 40.625 48.1875 47.75 41.5 \nQ 54.890625 34.8125 54.890625 23.390625 \nQ 54.890625 11.625 47.5625 5.09375 \nQ 40.234375 -1.421875 26.90625 -1.421875 \nQ 22.3125 -1.421875 17.546875 -0.640625 \nQ 12.796875 0.140625 7.71875 1.703125 \nL 7.71875 11.625 \nQ 12.109375 9.234375 16.796875 8.0625 \nQ 21.484375 6.890625 26.703125 6.890625 \nQ 35.15625 6.890625 40.078125 11.328125 \nQ 45.015625 15.765625 45.015625 23.390625 \nQ 45.015625 31 40.078125 35.4375 \nQ 35.15625 39.890625 26.703125 39.890625 \nQ 22.75 39.890625 18.8125 39.015625 \nQ 14.890625 38.140625 10.796875 36.28125 \nz\n\" id=\"DejaVuSans-53\"/>\n      </defs>\n      <g transform=\"translate(61.11625 239.640156)scale(0.1 -0.1)\">\n       <use xlink:href=\"#DejaVuSans-53\"/>\n      </g>\n     </g>\n    </g>\n    <g id=\"xtick_3\">\n     <g id=\"line2d_3\">\n      <g>\n       <use style=\"stroke:#000000;stroke-width:0.8;\" x=\"98.2725\" xlink:href=\"#m262e234ca8\" y=\"225.041719\"/>\n      </g>\n     </g>\n     <g id=\"text_3\">\n      <!-- 10 -->\n      <defs>\n       <path d=\"M 12.40625 8.296875 \nL 28.515625 8.296875 \nL 28.515625 63.921875 \nL 10.984375 60.40625 \nL 10.984375 69.390625 \nL 28.421875 72.90625 \nL 38.28125 72.90625 \nL 38.28125 8.296875 \nL 54.390625 8.296875 \nL 54.390625 0 \nL 12.40625 0 \nz\n\" id=\"DejaVuSans-49\"/>\n      </defs>\n      <g transform=\"translate(91.91 239.640156)scale(0.1 -0.1)\">\n       <use xlink:href=\"#DejaVuSans-49\"/>\n       <use x=\"63.623047\" xlink:href=\"#DejaVuSans-48\"/>\n      </g>\n     </g>\n    </g>\n    <g id=\"xtick_4\">\n     <g id=\"line2d_4\">\n      <g>\n       <use style=\"stroke:#000000;stroke-width:0.8;\" x=\"132.2475\" xlink:href=\"#m262e234ca8\" y=\"225.041719\"/>\n      </g>\n     </g>\n     <g id=\"text_4\">\n      <!-- 15 -->\n      <g transform=\"translate(125.885 239.640156)scale(0.1 -0.1)\">\n       <use xlink:href=\"#DejaVuSans-49\"/>\n       <use x=\"63.623047\" xlink:href=\"#DejaVuSans-53\"/>\n      </g>\n     </g>\n    </g>\n    <g id=\"xtick_5\">\n     <g id=\"line2d_5\">\n      <g>\n       <use style=\"stroke:#000000;stroke-width:0.8;\" x=\"166.2225\" xlink:href=\"#m262e234ca8\" y=\"225.041719\"/>\n      </g>\n     </g>\n     <g id=\"text_5\">\n      <!-- 20 -->\n      <defs>\n       <path d=\"M 19.1875 8.296875 \nL 53.609375 8.296875 \nL 53.609375 0 \nL 7.328125 0 \nL 7.328125 8.296875 \nQ 12.9375 14.109375 22.625 23.890625 \nQ 32.328125 33.6875 34.8125 36.53125 \nQ 39.546875 41.84375 41.421875 45.53125 \nQ 43.3125 49.21875 43.3125 52.78125 \nQ 43.3125 58.59375 39.234375 62.25 \nQ 35.15625 65.921875 28.609375 65.921875 \nQ 23.96875 65.921875 18.8125 64.3125 \nQ 13.671875 62.703125 7.8125 59.421875 \nL 7.8125 69.390625 \nQ 13.765625 71.78125 18.9375 73 \nQ 24.125 74.21875 28.421875 74.21875 \nQ 39.75 74.21875 46.484375 68.546875 \nQ 53.21875 62.890625 53.21875 53.421875 \nQ 53.21875 48.921875 51.53125 44.890625 \nQ 49.859375 40.875 45.40625 35.40625 \nQ 44.1875 33.984375 37.640625 27.21875 \nQ 31.109375 20.453125 19.1875 8.296875 \nz\n\" id=\"DejaVuSans-50\"/>\n      </defs>\n      <g transform=\"translate(159.86 239.640156)scale(0.1 -0.1)\">\n       <use xlink:href=\"#DejaVuSans-50\"/>\n       <use x=\"63.623047\" xlink:href=\"#DejaVuSans-48\"/>\n      </g>\n     </g>\n    </g>\n    <g id=\"xtick_6\">\n     <g id=\"line2d_6\">\n      <g>\n       <use style=\"stroke:#000000;stroke-width:0.8;\" x=\"200.1975\" xlink:href=\"#m262e234ca8\" y=\"225.041719\"/>\n      </g>\n     </g>\n     <g id=\"text_6\">\n      <!-- 25 -->\n      <g transform=\"translate(193.835 239.640156)scale(0.1 -0.1)\">\n       <use xlink:href=\"#DejaVuSans-50\"/>\n       <use x=\"63.623047\" xlink:href=\"#DejaVuSans-53\"/>\n      </g>\n     </g>\n    </g>\n    <g id=\"xtick_7\">\n     <g id=\"line2d_7\">\n      <g>\n       <use style=\"stroke:#000000;stroke-width:0.8;\" x=\"234.1725\" xlink:href=\"#m262e234ca8\" y=\"225.041719\"/>\n      </g>\n     </g>\n     <g id=\"text_7\">\n      <!-- 30 -->\n      <defs>\n       <path d=\"M 40.578125 39.3125 \nQ 47.65625 37.796875 51.625 33 \nQ 55.609375 28.21875 55.609375 21.1875 \nQ 55.609375 10.40625 48.1875 4.484375 \nQ 40.765625 -1.421875 27.09375 -1.421875 \nQ 22.515625 -1.421875 17.65625 -0.515625 \nQ 12.796875 0.390625 7.625 2.203125 \nL 7.625 11.71875 \nQ 11.71875 9.328125 16.59375 8.109375 \nQ 21.484375 6.890625 26.8125 6.890625 \nQ 36.078125 6.890625 40.9375 10.546875 \nQ 45.796875 14.203125 45.796875 21.1875 \nQ 45.796875 27.640625 41.28125 31.265625 \nQ 36.765625 34.90625 28.71875 34.90625 \nL 20.21875 34.90625 \nL 20.21875 43.015625 \nL 29.109375 43.015625 \nQ 36.375 43.015625 40.234375 45.921875 \nQ 44.09375 48.828125 44.09375 54.296875 \nQ 44.09375 59.90625 40.109375 62.90625 \nQ 36.140625 65.921875 28.71875 65.921875 \nQ 24.65625 65.921875 20.015625 65.03125 \nQ 15.375 64.15625 9.8125 62.3125 \nL 9.8125 71.09375 \nQ 15.4375 72.65625 20.34375 73.4375 \nQ 25.25 74.21875 29.59375 74.21875 \nQ 40.828125 74.21875 47.359375 69.109375 \nQ 53.90625 64.015625 53.90625 55.328125 \nQ 53.90625 49.265625 50.4375 45.09375 \nQ 46.96875 40.921875 40.578125 39.3125 \nz\n\" id=\"DejaVuSans-51\"/>\n      </defs>\n      <g transform=\"translate(227.81 239.640156)scale(0.1 -0.1)\">\n       <use xlink:href=\"#DejaVuSans-51\"/>\n       <use x=\"63.623047\" xlink:href=\"#DejaVuSans-48\"/>\n      </g>\n     </g>\n    </g>\n   </g>\n   <g id=\"matplotlib.axis_2\">\n    <g id=\"ytick_1\">\n     <g id=\"line2d_8\">\n      <defs>\n       <path d=\"M 0 0 \nL -3.5 0 \n\" id=\"m315629b8e2\" style=\"stroke:#000000;stroke-width:0.8;\"/>\n      </defs>\n      <g>\n       <use style=\"stroke:#000000;stroke-width:0.8;\" x=\"26.925\" xlink:href=\"#m315629b8e2\" y=\"10.999219\"/>\n      </g>\n     </g>\n     <g id=\"text_8\">\n      <!-- 0 -->\n      <g transform=\"translate(13.5625 14.798437)scale(0.1 -0.1)\">\n       <use xlink:href=\"#DejaVuSans-48\"/>\n      </g>\n     </g>\n    </g>\n    <g id=\"ytick_2\">\n     <g id=\"line2d_9\">\n      <g>\n       <use style=\"stroke:#000000;stroke-width:0.8;\" x=\"26.925\" xlink:href=\"#m315629b8e2\" y=\"44.974219\"/>\n      </g>\n     </g>\n     <g id=\"text_9\">\n      <!-- 5 -->\n      <g transform=\"translate(13.5625 48.773437)scale(0.1 -0.1)\">\n       <use xlink:href=\"#DejaVuSans-53\"/>\n      </g>\n     </g>\n    </g>\n    <g id=\"ytick_3\">\n     <g id=\"line2d_10\">\n      <g>\n       <use style=\"stroke:#000000;stroke-width:0.8;\" x=\"26.925\" xlink:href=\"#m315629b8e2\" y=\"78.949219\"/>\n      </g>\n     </g>\n     <g id=\"text_10\">\n      <!-- 10 -->\n      <g transform=\"translate(7.2 82.748437)scale(0.1 -0.1)\">\n       <use xlink:href=\"#DejaVuSans-49\"/>\n       <use x=\"63.623047\" xlink:href=\"#DejaVuSans-48\"/>\n      </g>\n     </g>\n    </g>\n    <g id=\"ytick_4\">\n     <g id=\"line2d_11\">\n      <g>\n       <use style=\"stroke:#000000;stroke-width:0.8;\" x=\"26.925\" xlink:href=\"#m315629b8e2\" y=\"112.924219\"/>\n      </g>\n     </g>\n     <g id=\"text_11\">\n      <!-- 15 -->\n      <g transform=\"translate(7.2 116.723437)scale(0.1 -0.1)\">\n       <use xlink:href=\"#DejaVuSans-49\"/>\n       <use x=\"63.623047\" xlink:href=\"#DejaVuSans-53\"/>\n      </g>\n     </g>\n    </g>\n    <g id=\"ytick_5\">\n     <g id=\"line2d_12\">\n      <g>\n       <use style=\"stroke:#000000;stroke-width:0.8;\" x=\"26.925\" xlink:href=\"#m315629b8e2\" y=\"146.899219\"/>\n      </g>\n     </g>\n     <g id=\"text_12\">\n      <!-- 20 -->\n      <g transform=\"translate(7.2 150.698437)scale(0.1 -0.1)\">\n       <use xlink:href=\"#DejaVuSans-50\"/>\n       <use x=\"63.623047\" xlink:href=\"#DejaVuSans-48\"/>\n      </g>\n     </g>\n    </g>\n    <g id=\"ytick_6\">\n     <g id=\"line2d_13\">\n      <g>\n       <use style=\"stroke:#000000;stroke-width:0.8;\" x=\"26.925\" xlink:href=\"#m315629b8e2\" y=\"180.874219\"/>\n      </g>\n     </g>\n     <g id=\"text_13\">\n      <!-- 25 -->\n      <g transform=\"translate(7.2 184.673437)scale(0.1 -0.1)\">\n       <use xlink:href=\"#DejaVuSans-50\"/>\n       <use x=\"63.623047\" xlink:href=\"#DejaVuSans-53\"/>\n      </g>\n     </g>\n    </g>\n    <g id=\"ytick_7\">\n     <g id=\"line2d_14\">\n      <g>\n       <use style=\"stroke:#000000;stroke-width:0.8;\" x=\"26.925\" xlink:href=\"#m315629b8e2\" y=\"214.849219\"/>\n      </g>\n     </g>\n     <g id=\"text_14\">\n      <!-- 30 -->\n      <g transform=\"translate(7.2 218.648437)scale(0.1 -0.1)\">\n       <use xlink:href=\"#DejaVuSans-51\"/>\n       <use x=\"63.623047\" xlink:href=\"#DejaVuSans-48\"/>\n      </g>\n     </g>\n    </g>\n   </g>\n   <g id=\"patch_3\">\n    <path d=\"M 26.925 225.041719 \nL 26.925 7.601719 \n\" style=\"fill:none;stroke:#000000;stroke-linecap:square;stroke-linejoin:miter;stroke-width:0.8;\"/>\n   </g>\n   <g id=\"patch_4\">\n    <path d=\"M 244.365 225.041719 \nL 244.365 7.601719 \n\" style=\"fill:none;stroke:#000000;stroke-linecap:square;stroke-linejoin:miter;stroke-width:0.8;\"/>\n   </g>\n   <g id=\"patch_5\">\n    <path d=\"M 26.925 225.041719 \nL 244.365 225.041719 \n\" style=\"fill:none;stroke:#000000;stroke-linecap:square;stroke-linejoin:miter;stroke-width:0.8;\"/>\n   </g>\n   <g id=\"patch_6\">\n    <path d=\"M 26.925 7.601719 \nL 244.365 7.601719 \n\" style=\"fill:none;stroke:#000000;stroke-linecap:square;stroke-linejoin:miter;stroke-width:0.8;\"/>\n   </g>\n  </g>\n </g>\n <defs>\n  <clipPath id=\"p6a63103769\">\n   <rect height=\"217.44\" width=\"217.44\" x=\"26.925\" y=\"7.601719\"/>\n  </clipPath>\n </defs>\n</svg>\n",
      "text/plain": "<Figure size 432x288 with 1 Axes>"
     },
     "metadata": {
      "needs_background": "light"
     },
     "output_type": "display_data"
    }
   ],
   "source": [
    "plt.imshow(test[:,:,0], cmap=\"gray\")"
   ]
  },
  {
   "cell_type": "code",
   "execution_count": 50,
   "metadata": {},
   "outputs": [],
   "source": [
    "#converting rgb images to grayscale images for faster computations\n",
    "rgb2grey = [0.2990, 0.5870, 0.1140]\n",
    "X_train = np.expand_dims(np.dot(X_train, rgb2grey), axis=3)\n",
    "X_val = np.expand_dims(np.dot(X_val, rgb2grey), axis=3)\n",
    "X_test = np.expand_dims(np.dot(X_test, rgb2grey), axis=3)"
   ]
  },
  {
   "cell_type": "code",
   "execution_count": 51,
   "metadata": {},
   "outputs": [
    {
     "data": {
      "text/plain": "(62268, 32, 32, 1)"
     },
     "execution_count": 51,
     "metadata": {},
     "output_type": "execute_result"
    }
   ],
   "source": [
    "X_train.shape"
   ]
  },
  {
   "cell_type": "code",
   "execution_count": 52,
   "metadata": {},
   "outputs": [],
   "source": [
    "#normalising the training data for better training\n",
    "train_mean = np.mean(X_train, axis=0)\n",
    "train_std = np.std(X_train, axis=0)\n",
    "\n",
    "X_train_normalised = (X_train-train_mean)/train_std\n",
    "X_val_normalised = (X_val-train_mean)/train_std\n",
    "X_test_normalised = (X_test-train_mean)/train_std"
   ]
  },
  {
   "cell_type": "code",
   "execution_count": 53,
   "metadata": {},
   "outputs": [
    {
     "data": {
      "text/plain": "(10989,)"
     },
     "execution_count": 53,
     "metadata": {},
     "output_type": "execute_result"
    }
   ],
   "source": [
    "Y_val.shape"
   ]
  },
  {
   "cell_type": "code",
   "execution_count": 54,
   "metadata": {},
   "outputs": [],
   "source": [
    "Y_train = np_utils.to_categorical(Y_train)\n",
    "Y_val = np_utils.to_categorical(Y_val)\n",
    "Y_test = np_utils.to_categorical(Y_test)"
   ]
  },
  {
   "cell_type": "code",
   "execution_count": 55,
   "metadata": {},
   "outputs": [
    {
     "data": {
      "text/plain": "(62268, 10)"
     },
     "execution_count": 55,
     "metadata": {},
     "output_type": "execute_result"
    }
   ],
   "source": [
    "Y_train.shape"
   ]
  },
  {
   "cell_type": "code",
   "execution_count": 56,
   "metadata": {},
   "outputs": [
    {
     "data": {
      "text/plain": "(10989, 10)"
     },
     "execution_count": 56,
     "metadata": {},
     "output_type": "execute_result"
    }
   ],
   "source": [
    "Y_val.shape"
   ]
  },
  {
   "cell_type": "code",
   "execution_count": 57,
   "metadata": {},
   "outputs": [
    {
     "data": {
      "text/plain": "array([[0., 0., 1., ..., 0., 0., 0.],\n       [0., 0., 0., ..., 0., 0., 0.],\n       [0., 0., 0., ..., 0., 0., 0.],\n       ...,\n       [0., 0., 0., ..., 0., 0., 0.],\n       [0., 0., 0., ..., 0., 0., 0.],\n       [0., 0., 1., ..., 0., 0., 0.]], dtype=float32)"
     },
     "execution_count": 57,
     "metadata": {},
     "output_type": "execute_result"
    }
   ],
   "source": [
    "Y_train"
   ]
  },
  {
   "cell_type": "code",
   "execution_count": 58,
   "metadata": {},
   "outputs": [
    {
     "data": {
      "text/plain": "array([[0., 0., 0., ..., 0., 0., 0.],\n       [0., 1., 0., ..., 0., 0., 0.],\n       [0., 1., 0., ..., 0., 0., 0.],\n       ...,\n       [0., 0., 0., ..., 0., 1., 0.],\n       [0., 0., 0., ..., 0., 1., 0.],\n       [0., 0., 0., ..., 0., 0., 0.]], dtype=float32)"
     },
     "execution_count": 58,
     "metadata": {},
     "output_type": "execute_result"
    }
   ],
   "source": [
    "Y_val"
   ]
  },
  {
   "cell_type": "code",
   "execution_count": 61,
   "metadata": {},
   "outputs": [],
   "source": [
    "model.save('street_view_house_numbers_model.h5')"
   ]
  },
  {
   "cell_type": "code",
   "execution_count": null,
   "metadata": {},
   "outputs": [],
   "source": []
  }
 ]
}