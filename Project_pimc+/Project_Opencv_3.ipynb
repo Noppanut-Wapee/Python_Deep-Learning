{
 "nbformat": 4,
 "nbformat_minor": 2,
 "metadata": {
  "language_info": {
   "name": "python",
   "codemirror_mode": {
    "name": "ipython",
    "version": 3
   },
   "version": "3.7.6-final"
  },
  "orig_nbformat": 2,
  "file_extension": ".py",
  "mimetype": "text/x-python",
  "name": "python",
  "npconvert_exporter": "python",
  "pygments_lexer": "ipython3",
  "version": 3,
  "kernelspec": {
   "name": "python37664bitmachinelearningconda4f1c14e8239b4ee0b7ab951f8dcd3c6b",
   "display_name": "Python 3.7.6 64-bit ('Machine_learning': conda)"
  }
 },
 "cells": [
  {
   "cell_type": "code",
   "execution_count": 2,
   "metadata": {},
   "outputs": [],
   "source": [
    "# import the necessary packages\n",
    "import numpy as np\n",
    "import imutils\n",
    "import cv2\n",
    "def is_contour_bad(c):\n",
    "\t# approximate the contour\n",
    "\tperi = cv2.arcLength(c, True)\n",
    "\tapprox = cv2.approxPolyDP(c, 0.02 * peri, True)\n",
    "\t# the contour is 'bad' if it is not a rectangle\n",
    "\treturn not len(approx) == 4"
   ]
  },
  {
   "cell_type": "code",
   "execution_count": 3,
   "metadata": {},
   "outputs": [
    {
     "output_type": "execute_result",
     "data": {
      "text/plain": "13"
     },
     "metadata": {},
     "execution_count": 3
    }
   ],
   "source": [
    "# load the shapes image, convert it to grayscale, and edge edges in\n",
    "# the image\n",
    "image = cv2.imread('/Users/noppanutwapee/Desktop/Python_Deep-Learning/Project_pimc+/example.jpg')\n",
    "gray = cv2.cvtColor(image, cv2.COLOR_BGR2GRAY)\n",
    "edged = cv2.Canny(gray, 50, 100)\n",
    "cv2.imshow(\"Original\", image)\n",
    "# find contours in the image and initialize the mask that will be\n",
    "# used to remove the bad contours\n",
    "cnts = cv2.findContours(edged.copy(), cv2.RETR_LIST, cv2.CHAIN_APPROX_SIMPLE)\n",
    "cnts = imutils.grab_contours(cnts)\n",
    "mask = np.ones(image.shape[:2], dtype=\"uint8\") * 255\n",
    "# loop over the contours\n",
    "for c in cnts:\n",
    "\t# if the contour is bad, draw it on the mask\n",
    "\tif is_contour_bad(c):\n",
    "\t\tcv2.drawContours(mask, [c], -1, 0, -1)\n",
    "# remove the contours from the image and show the resulting images\n",
    "image = cv2.bitwise_and(image, image, mask=mask)\n",
    "cv2.imshow(\"Mask\", mask)\n",
    "cv2.imshow(\"After\", image)\n",
    "cv2.waitKey(0)\n",
    "#cv2.destroyAllWindows"
   ]
  },
  {
   "cell_type": "code",
   "execution_count": null,
   "metadata": {},
   "outputs": [],
   "source": []
  }
 ]
}